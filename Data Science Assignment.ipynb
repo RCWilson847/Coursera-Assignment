{
 "cells": [
  {
   "cell_type": "markdown",
   "id": "0b0c7b7b",
   "metadata": {},
   "source": [
    "# Title of Robert Wilson's Notebook"
   ]
  },
  {
   "cell_type": "markdown",
   "id": "57701640",
   "metadata": {},
   "source": [
    "## In this notebook, I will perform a few basic data science tasks."
   ]
  },
  {
   "cell_type": "markdown",
   "id": "325d3110",
   "metadata": {},
   "source": [
    "### Data science languages include Python, R, SQL, Java, and several others. Python is one of the most popular computer programming languages and is frequently used in data science."
   ]
  },
  {
   "cell_type": "markdown",
   "id": "366d8824",
   "metadata": {},
   "source": [
    "### Data science libraries include Pandas, used for dataframes, Matplotlib and Seaborn, for data visualization. As well, scikit-learn, a machine learning tool, provides a data scientist with the means to perform regression, classification, and clustering."
   ]
  },
  {
   "cell_type": "markdown",
   "id": "eb366d60",
   "metadata": {},
   "source": [
    "#### There are a number of arithmetic expressions that I will now share with you. Python works simply, allowing you to add, subtract, multiply, and divide numbers. Here, I will illustrate how to do basic addition.\n",
    "##### a = 10\n",
    "##### b = 5\n",
    "##### a + b\n",
    "##### 15"
   ]
  },
  {
   "cell_type": "code",
   "execution_count": 14,
   "id": "a7c1a843",
   "metadata": {},
   "outputs": [
    {
     "data": {
      "text/plain": [
       "32"
      ]
     },
     "execution_count": 14,
     "metadata": {},
     "output_type": "execute_result"
    }
   ],
   "source": [
    "#Adding and multiplying in Python\n",
    "(30 + 2)*1"
   ]
  },
  {
   "cell_type": "code",
   "execution_count": 13,
   "id": "fbd31cef",
   "metadata": {},
   "outputs": [
    {
     "name": "stdout",
     "output_type": "stream",
     "text": [
      "60: 20\n",
      "20.0 minutes is equal to 0.3333333333333333 hours\n"
     ]
    }
   ],
   "source": [
    "#Converting minutes to hours \n",
    "\n",
    "minutes = float(input(\"60: \"))\n",
    "\n",
    "hours = minutes / 60\n",
    "\n",
    "print(f\"{minutes} minutes is equal to {hours} hours\")\n"
   ]
  },
  {
   "cell_type": "markdown",
   "id": "1861311e",
   "metadata": {},
   "source": [
    "# Objectives\n",
    "#### Utilizing Jupyter Notebook\n",
    "#### Using markdown\n",
    "#### Utilizing basic mathematical expressions in Python \n",
    "#### Using GitHub for file sharing"
   ]
  },
  {
   "cell_type": "markdown",
   "id": "cf6ccee3",
   "metadata": {},
   "source": [
    "# Author name: Robert Wilson"
   ]
  },
  {
   "cell_type": "code",
   "execution_count": null,
   "id": "c7816205",
   "metadata": {},
   "outputs": [],
   "source": []
  }
 ],
 "metadata": {
  "kernelspec": {
   "display_name": "Python 3 (ipykernel)",
   "language": "python",
   "name": "python3"
  },
  "language_info": {
   "codemirror_mode": {
    "name": "ipython",
    "version": 3
   },
   "file_extension": ".py",
   "mimetype": "text/x-python",
   "name": "python",
   "nbconvert_exporter": "python",
   "pygments_lexer": "ipython3",
   "version": "3.9.12"
  }
 },
 "nbformat": 4,
 "nbformat_minor": 5
}
